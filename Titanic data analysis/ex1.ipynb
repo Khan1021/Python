{
 "cells": [
  {
   "cell_type": "markdown",
   "id": "b1c8ba6f",
   "metadata": {},
   "source": [
    "### 1. Sort DataFrame based on another list"
   ]
  },
  {
   "cell_type": "markdown",
   "id": "82ef5eec",
   "metadata": {},
   "source": [
    "Prompt: You are given a DataFrame. Additionally, you also have a list that contains all the unique values of a particular column of the DataFrame. Sort the DataFrame such that the values in the column appear in the same order as they do in the given list."
   ]
  },
  {
   "cell_type": "code",
   "execution_count": null,
   "id": "36481a4a",
   "metadata": {},
   "outputs": [],
   "source": [
    "import pandas as pd\n",
    "\n",
    "df = pd.DataFrame([[\"A\", 1], [\"B\", 2], [\"C\", 3], [\"D\", 4]],\n",
    "\t\t  columns = [\"Col_A\", \"Col_B\"])\n",
    "\n",
    "sort_list = [\"C\", \"D\", \"B\", \"A\"]\n",
    "print(df)"
   ]
  },
  {
   "cell_type": "code",
   "execution_count": 21,
   "id": "af306f99",
   "metadata": {},
   "outputs": [
    {
     "name": "stdout",
     "output_type": "stream",
     "text": [
      "  Col_A  Col_B\n",
      "2     C      3\n",
      "3     D      4\n",
      "1     B      2\n",
      "0     A      1\n"
     ]
    }
   ],
   "source": [
    "s = pd.Series(range(len(sort_list)), index = sort_list)\n",
    "\n",
    "sorted = df.sort_values(\"Col_A\", key = lambda x: x.map(s))\n",
    "print(sorted)"
   ]
  },
  {
   "cell_type": "markdown",
   "id": "d92d5591",
   "metadata": {},
   "source": [
    "## 2. Insert a column at a specific location in a DataFrame"
   ]
  },
  {
   "cell_type": "markdown",
   "id": "f5e372a5",
   "metadata": {},
   "source": [
    "Prompt: Assume that you again have a similar DataFrame as used above. Additionally, you are given a list whose size is the same as the number of rows in the given DataFrame. The task is to insert the given list as a new column at a given position of the DataFrame.\n"
   ]
  },
  {
   "cell_type": "code",
   "execution_count": null,
   "id": "b7338377",
   "metadata": {},
   "outputs": [],
   "source": [
    "import pandas as pd\n",
    "\n",
    "df = pd.DataFrame([[\"A\", 1], [\"B\", 2], [\"C\", 3], [\"D\", 4]],\n",
    "                  columns = [\"Col_A\", \"Col_B\"])\n",
    "\n",
    "new_column = [\"P\", \"Q\", \"R\", \"S\"]\n",
    "insert_position = 1\n",
    "\n",
    "print(df)"
   ]
  },
  {
   "cell_type": "code",
   "execution_count": 27,
   "id": "68aba419",
   "metadata": {},
   "outputs": [
    {
     "name": "stdout",
     "output_type": "stream",
     "text": [
      "  Col_A Col_C  Col_B\n",
      "0     A     P      1\n",
      "1     B     Q      2\n",
      "2     C     R      3\n",
      "3     D     S      4\n"
     ]
    }
   ],
   "source": [
    "df.insert(insert_position,\"Col_C\",new_column)\n",
    "print(df)"
   ]
  },
  {
   "cell_type": "markdown",
   "id": "b84c06a4",
   "metadata": {},
   "source": [
    "## 3.Select columns based on the column’s Data Type"
   ]
  },
  {
   "cell_type": "markdown",
   "id": "434b1923",
   "metadata": {},
   "source": [
    "Prompt: We all are familiar with row-based filtering, aren’t we? Well, let’s try something else. Your task is to filter all the columns from a DataFrame whose entries adhere to a given data type."
   ]
  },
  {
   "cell_type": "code",
   "execution_count": 5,
   "id": "0db04569",
   "metadata": {},
   "outputs": [
    {
     "name": "stdout",
     "output_type": "stream",
     "text": [
      "  col_A  col_B  col_C\n",
      "0     A      1   True\n",
      "1     B      2  False\n",
      "2     C      3  False\n",
      "3     D      4   True\n"
     ]
    }
   ],
   "source": [
    "import pandas as pd\n",
    "\n",
    "df = pd.DataFrame([[\"A\",1,True],[\"B\",2,False],[\"C\",3,False],[\"D\",4,True]],\n",
    "                 columns = [\"col_A\", \"col_B\", \"col_C\"])\n",
    "dt_type = \"bool\"\n",
    "\n",
    "print(df)"
   ]
  },
  {
   "cell_type": "code",
   "execution_count": 6,
   "id": "e5bde097",
   "metadata": {},
   "outputs": [
    {
     "name": "stdout",
     "output_type": "stream",
     "text": [
      "   col_C\n",
      "0   True\n",
      "1  False\n",
      "2  False\n",
      "3   True\n"
     ]
    }
   ],
   "source": [
    "new_df = df.select_dtypes(include = dt_type)\n",
    "print(new_df)"
   ]
  },
  {
   "cell_type": "markdown",
   "id": "611ec30e",
   "metadata": {},
   "source": [
    "## 4. Count the number of Non-NaN cells for each column"
   ]
  },
  {
   "cell_type": "markdown",
   "id": "5dcfae29",
   "metadata": {},
   "source": [
    "Prompt: Next, given a DataFrame (with NaN values in one or more columns), you need to print the number of Non-NaN cells for each column"
   ]
  },
  {
   "cell_type": "code",
   "execution_count": 7,
   "id": "bdb1e6e0",
   "metadata": {},
   "outputs": [
    {
     "name": "stdout",
     "output_type": "stream",
     "text": [
      "  col_A  col_B\n",
      "0     A    NaN\n",
      "1   NaN    2.0\n",
      "2     C    NaN\n",
      "3     D    4.0\n"
     ]
    }
   ],
   "source": [
    "import pandas as  pd\n",
    "import numpy as np\n",
    "\n",
    "df = pd.DataFrame([[\"A\",np.NaN],[np.NaN,2],[\"C\",np.NaN],[\"D\",4]],\n",
    "                 columns = [\"col_A\", \"col_B\"])\n",
    "print(df)"
   ]
  },
  {
   "cell_type": "code",
   "execution_count": 10,
   "id": "caeb06b6",
   "metadata": {},
   "outputs": [
    {
     "name": "stdout",
     "output_type": "stream",
     "text": [
      "col_A    3\n",
      "col_B    2\n",
      "dtype: int64\n"
     ]
    }
   ],
   "source": [
    "df_count = df.count()\n",
    "print(df_count)"
   ]
  },
  {
   "cell_type": "markdown",
   "id": "b36a76b0",
   "metadata": {},
   "source": [
    "## 5. Split DataFrame into equal parts"
   ]
  },
  {
   "cell_type": "markdown",
   "id": "21b9f673",
   "metadata": {},
   "source": [
    "Prompt: Given a DataFrame, your task is to split the DataFrame into a given number of equal parts."
   ]
  },
  {
   "cell_type": "code",
   "execution_count": 19,
   "id": "44e0ada2",
   "metadata": {},
   "outputs": [
    {
     "name": "stdout",
     "output_type": "stream",
     "text": [
      "  col_A  col_B\n",
      "0     A      1\n",
      "1     B      2\n",
      "2     C      3\n",
      "3     D      4\n"
     ]
    }
   ],
   "source": [
    "import pandas as pd\n",
    "\n",
    "df = pd.DataFrame([[\"A\",1],[\"B\",2],[\"C\",3],[\"D\",4]],\n",
    "                 columns = [\"col_A\",\"col_B\"])\n",
    "\n",
    "parts = 2\n",
    "\n",
    "print(df)"
   ]
  },
  {
   "cell_type": "code",
   "execution_count": 24,
   "id": "5d38d4ff",
   "metadata": {},
   "outputs": [
    {
     "name": "stdout",
     "output_type": "stream",
     "text": [
      "  col_A  col_B\n",
      "0     A      1\n",
      "1     B      2\n",
      "  col_A  col_B\n",
      "2     C      3\n",
      "3     D      4\n"
     ]
    }
   ],
   "source": [
    "df1, df2 = np.split(df,parts)\n",
    "print(df1)\n",
    "print(df2)\n"
   ]
  },
  {
   "cell_type": "markdown",
   "id": "1cf5e33a",
   "metadata": {},
   "source": [
    "## 6. Reverse DataFrame row-wise or column-wise"
   ]
  },
  {
   "cell_type": "markdown",
   "id": "836f6104",
   "metadata": {},
   "source": [
    "Prompt: Next, consider that you have a DataFrame similar to the one we used above. Your task is to flip the entire DataFrame row-wise or column-wise."
   ]
  },
  {
   "cell_type": "code",
   "execution_count": 25,
   "id": "ddbd3821",
   "metadata": {},
   "outputs": [
    {
     "name": "stdout",
     "output_type": "stream",
     "text": [
      "  col_A  col_B\n",
      "0     A      1\n",
      "1     B      2\n",
      "2     C      3\n",
      "3     D      4\n"
     ]
    }
   ],
   "source": [
    "import pandas as pd\n",
    "\n",
    "df = pd.DataFrame([[\"A\",1],[\"B\",2],[\"C\",3],[\"D\",4]],\n",
    "                 columns = [\"col_A\",\"col_B\"])\n",
    "print(df)"
   ]
  },
  {
   "cell_type": "code",
   "execution_count": 27,
   "id": "2722535b",
   "metadata": {},
   "outputs": [
    {
     "name": "stdout",
     "output_type": "stream",
     "text": [
      "   col_B col_A\n",
      "0      1     A\n",
      "1      2     B\n",
      "2      3     C\n",
      "3      4     D\n"
     ]
    }
   ],
   "source": [
    "column_reverse = df.loc[:,::-1]\n",
    "print(column_reverse)"
   ]
  },
  {
   "cell_type": "code",
   "execution_count": 28,
   "id": "156d9dbe",
   "metadata": {},
   "outputs": [
    {
     "name": "stdout",
     "output_type": "stream",
     "text": [
      "  col_A  col_B\n",
      "3     D      4\n",
      "2     C      3\n",
      "1     B      2\n",
      "0     A      1\n"
     ]
    }
   ],
   "source": [
    "row_rev = df.loc[::-1]\n",
    "print(row_rev)"
   ]
  },
  {
   "cell_type": "markdown",
   "id": "635f12fa",
   "metadata": {},
   "source": [
    "## 7. Rearange columns of a DataFrame"
   ]
  },
  {
   "cell_type": "markdown",
   "id": "5c0e8469",
   "metadata": {},
   "source": [
    "Prompt: In this exercise, you are given a DataFrame. Additionally, you have a list that specifies the order in which the columns should appear in the DataFrame. Given the list and the DataFrame, print the columns in the order specified in the list."
   ]
  },
  {
   "cell_type": "code",
   "execution_count": 29,
   "id": "94479bb2",
   "metadata": {},
   "outputs": [
    {
     "name": "stdout",
     "output_type": "stream",
     "text": [
      "  col_A  col_B\n",
      "0     A      1\n",
      "1     B      2\n",
      "2     C      3\n",
      "3     D      4\n"
     ]
    }
   ],
   "source": [
    "import pandas as pd\n",
    "\n",
    "df = pd.DataFrame([[\"A\",1],[\"B\",2],[\"C\",3],[\"D\",4]],\n",
    "                 columns = [\"col_A\", \"col_B\"])\n",
    "\n",
    "rearrange_order = [1,0] #column 1 then column 0\n",
    "\n",
    "print(df)"
   ]
  },
  {
   "cell_type": "code",
   "execution_count": 41,
   "id": "d94aae2e",
   "metadata": {},
   "outputs": [
    {
     "name": "stdout",
     "output_type": "stream",
     "text": [
      "   col_B col_A\n",
      "0      1     A\n",
      "1      2     B\n",
      "2      3     C\n",
      "3      4     D\n"
     ]
    }
   ],
   "source": [
    "rearranged_df = df.iloc[:, rearrange_order]\n",
    "print(rearranged_df)"
   ]
  },
  {
   "cell_type": "markdown",
   "id": "9ca00f87",
   "metadata": {},
   "source": [
    "## 8. Get alternate rows of a DataFrame"
   ]
  },
  {
   "cell_type": "markdown",
   "id": "7880c94b",
   "metadata": {},
   "source": [
    "Prompt: Next, given a DataFrame, you need to print every alternate row starting from the first row of the DataFrame."
   ]
  },
  {
   "cell_type": "code",
   "execution_count": 42,
   "id": "f7e97aa6",
   "metadata": {},
   "outputs": [
    {
     "name": "stdout",
     "output_type": "stream",
     "text": [
      "  col_A  col_B\n",
      "0     A      1\n",
      "1     B      2\n",
      "2     C      3\n",
      "3     D      4\n"
     ]
    }
   ],
   "source": [
    "import pandas as pd\n",
    "\n",
    "df = pd.DataFrame([[\"A\",1],[\"B\",2],[\"C\",3],[\"D\",4]],\n",
    "                 columns = [\"col_A\", \"col_B\"])\n",
    "print(df)"
   ]
  },
  {
   "cell_type": "code",
   "execution_count": 43,
   "id": "a88759d9",
   "metadata": {},
   "outputs": [
    {
     "name": "stdout",
     "output_type": "stream",
     "text": [
      "  col_A  col_B\n",
      "0     A      1\n",
      "2     C      3\n"
     ]
    }
   ],
   "source": [
    "new_df = df.iloc[::2]\n",
    "print(new_df)"
   ]
  },
  {
   "cell_type": "markdown",
   "id": "60fb0d1d",
   "metadata": {},
   "source": [
    "## 9. Insert a row at an arbitrary position"
   ]
  },
  {
   "cell_type": "markdown",
   "id": "3cb17a4c",
   "metadata": {},
   "source": [
    "Prompt: Similar to earlier tasks, you are given the same DataFrame. Your task is to insert a given list at a specific index of the DataFrame and reassign the indexes."
   ]
  },
  {
   "cell_type": "code",
   "execution_count": 44,
   "id": "170e6d91",
   "metadata": {},
   "outputs": [
    {
     "name": "stdout",
     "output_type": "stream",
     "text": [
      "  col_A  col_B\n",
      "0     A      1\n",
      "1     B      2\n",
      "2     C      3\n",
      "3     D      4\n"
     ]
    }
   ],
   "source": [
    "import pandas as pd\n",
    "df = pd.DataFrame([[\"A\",1],[\"B\",2],[\"C\",3],[\"D\",4]],\n",
    "                 columns =[\"col_A\",\"col_B\"])\n",
    "print(df)\n",
    "\n",
    "insert_pos = 1\n",
    "insert_row = [\"P\", 5]\n"
   ]
  },
  {
   "cell_type": "code",
   "execution_count": 45,
   "id": "8bd8fd7b",
   "metadata": {},
   "outputs": [
    {
     "name": "stdout",
     "output_type": "stream",
     "text": [
      "  col_A  col_B\n",
      "0     A      1\n",
      "1     P      5\n",
      "2     B      2\n",
      "3     C      3\n",
      "4     D      4\n"
     ]
    }
   ],
   "source": [
    "df.loc[insert_pos - 0.1] = insert_row\n",
    "df = df.sort_index() \n",
    "df = df.reset_index(drop = True)\n",
    "print(df)\n"
   ]
  },
  {
   "cell_type": "markdown",
   "id": "b1eb3a2e",
   "metadata": {},
   "source": [
    "## 10. Apply function to every cell of DataFrame"
   ]
  },
  {
   "cell_type": "markdown",
   "id": "ec376f9c",
   "metadata": {},
   "source": [
    "Prompt: Lastly, you need to apply a given function to the entire DataFrame. The given DataFrame consists of just integer values. The task is to increase each entry by 1 through a function."
   ]
  },
  {
   "cell_type": "code",
   "execution_count": 48,
   "id": "7b8023b5",
   "metadata": {},
   "outputs": [
    {
     "name": "stdout",
     "output_type": "stream",
     "text": [
      "   col_A  col_B\n",
      "0      1      5\n",
      "1      2      6\n",
      "2      3      7\n",
      "3      4      8\n"
     ]
    }
   ],
   "source": [
    "import pandas as pd\n",
    "\n",
    "df = pd.DataFrame([[1,5],[2,6],[3,7],[4,8]],\n",
    "                 columns = [\"Col_A\",\"Col_B\"])\n",
    "\n",
    "print(df)\n",
    "\n",
    "def func(num):\n",
    "    return num + 1"
   ]
  },
  {
   "cell_type": "code",
   "execution_count": 51,
   "id": "2a998c5e",
   "metadata": {},
   "outputs": [
    {
     "name": "stdout",
     "output_type": "stream",
     "text": [
      "   col_A  col_B\n",
      "0      2      6\n",
      "1      3      7\n",
      "2      4      8\n",
      "3      5      9\n"
     ]
    }
   ],
   "source": [
    "new_df = df.applymap(func)\n",
    "print(new_df)\n"
   ]
  },
  {
   "cell_type": "code",
   "execution_count": null,
   "id": "350c9b3c",
   "metadata": {},
   "outputs": [],
   "source": []
  }
 ],
 "metadata": {
  "kernelspec": {
   "display_name": "Python 3 (ipykernel)",
   "language": "python",
   "name": "python3"
  },
  "language_info": {
   "codemirror_mode": {
    "name": "ipython",
    "version": 3
   },
   "file_extension": ".py",
   "mimetype": "text/x-python",
   "name": "python",
   "nbconvert_exporter": "python",
   "pygments_lexer": "ipython3",
   "version": "3.11.5"
  }
 },
 "nbformat": 4,
 "nbformat_minor": 5
}
