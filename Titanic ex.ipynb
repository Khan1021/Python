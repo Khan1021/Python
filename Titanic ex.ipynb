{
 "cells": [
  {
   "cell_type": "code",
   "execution_count": 87,
   "id": "86163ad9",
   "metadata": {},
   "outputs": [
    {
     "name": "stdout",
     "output_type": "stream",
     "text": [
      "['anagrams', 'anscombe', 'attention', 'brain_networks', 'car_crashes', 'diamonds', 'dots', 'dowjones', 'exercise', 'flights', 'fmri', 'geyser', 'glue', 'healthexp', 'iris', 'mpg', 'penguins', 'planets', 'seaice', 'taxis', 'tips', 'titanic']\n"
     ]
    }
   ],
   "source": [
    "import seaborn as sns\n",
    "import numpy as py\n",
    "import matplotlib.pyplot as plt\n",
    "import pandas as pd\n",
    "g = sns.get_dataset_names()\n",
    "print(g)\n"
   ]
  },
  {
   "cell_type": "code",
   "execution_count": 96,
   "id": "29930266",
   "metadata": {},
   "outputs": [
    {
     "name": "stdout",
     "output_type": "stream",
     "text": [
      "     survived  pclass     sex   age  sibsp  parch     fare embarked   class  \\\n",
      "0           0       3    male  22.0      1      0   7.2500        S   Third   \n",
      "1           1       1  female  38.0      1      0  71.2833        C   First   \n",
      "2           1       3  female  26.0      0      0   7.9250        S   Third   \n",
      "3           1       1  female  35.0      1      0  53.1000        S   First   \n",
      "4           0       3    male  35.0      0      0   8.0500        S   Third   \n",
      "..        ...     ...     ...   ...    ...    ...      ...      ...     ...   \n",
      "886         0       2    male  27.0      0      0  13.0000        S  Second   \n",
      "887         1       1  female  19.0      0      0  30.0000        S   First   \n",
      "888         0       3  female   NaN      1      2  23.4500        S   Third   \n",
      "889         1       1    male  26.0      0      0  30.0000        C   First   \n",
      "890         0       3    male  32.0      0      0   7.7500        Q   Third   \n",
      "\n",
      "       who  adult_male deck  embark_town alive  alone  \n",
      "0      man        True  NaN  Southampton    no  False  \n",
      "1    woman       False    C    Cherbourg   yes  False  \n",
      "2    woman       False  NaN  Southampton   yes   True  \n",
      "3    woman       False    C  Southampton   yes  False  \n",
      "4      man        True  NaN  Southampton    no   True  \n",
      "..     ...         ...  ...          ...   ...    ...  \n",
      "886    man        True  NaN  Southampton    no   True  \n",
      "887  woman       False    B  Southampton   yes   True  \n",
      "888  woman       False  NaN  Southampton    no  False  \n",
      "889    man        True    C    Cherbourg   yes   True  \n",
      "890    man        True  NaN   Queenstown    no   True  \n",
      "\n",
      "[891 rows x 15 columns]\n"
     ]
    }
   ],
   "source": [
    "df = sns.load_dataset('titanic') \n",
    "# df = Titanic dataset\n",
    "print(df)\n",
    "\n"
   ]
  },
  {
   "cell_type": "markdown",
   "id": "a41e84d1",
   "metadata": {},
   "source": [
    "## Data exploration tasks"
   ]
  },
  {
   "cell_type": "markdown",
   "id": "bb722a96",
   "metadata": {},
   "source": [
    "### Display the first few rows of the dataset to understand its structure."
   ]
  },
  {
   "cell_type": "markdown",
   "id": "9675c870",
   "metadata": {},
   "source": [
    "The first 5 rows of the Titanic data formatted with a pandas dataframe. This gives a brief overview of the dataset as opposed to inputting 'print()'."
   ]
  },
  {
   "cell_type": "code",
   "execution_count": 10,
   "id": "c7b1f5f4",
   "metadata": {
    "scrolled": true
   },
   "outputs": [
    {
     "data": {
      "text/html": [
       "<div>\n",
       "<style scoped>\n",
       "    .dataframe tbody tr th:only-of-type {\n",
       "        vertical-align: middle;\n",
       "    }\n",
       "\n",
       "    .dataframe tbody tr th {\n",
       "        vertical-align: top;\n",
       "    }\n",
       "\n",
       "    .dataframe thead th {\n",
       "        text-align: right;\n",
       "    }\n",
       "</style>\n",
       "<table border=\"1\" class=\"dataframe\">\n",
       "  <thead>\n",
       "    <tr style=\"text-align: right;\">\n",
       "      <th></th>\n",
       "      <th>survived</th>\n",
       "      <th>pclass</th>\n",
       "      <th>sex</th>\n",
       "      <th>age</th>\n",
       "      <th>sibsp</th>\n",
       "      <th>parch</th>\n",
       "      <th>fare</th>\n",
       "      <th>embarked</th>\n",
       "      <th>class</th>\n",
       "      <th>who</th>\n",
       "      <th>adult_male</th>\n",
       "      <th>deck</th>\n",
       "      <th>embark_town</th>\n",
       "      <th>alive</th>\n",
       "      <th>alone</th>\n",
       "    </tr>\n",
       "  </thead>\n",
       "  <tbody>\n",
       "    <tr>\n",
       "      <th>0</th>\n",
       "      <td>0</td>\n",
       "      <td>3</td>\n",
       "      <td>male</td>\n",
       "      <td>22.0</td>\n",
       "      <td>1</td>\n",
       "      <td>0</td>\n",
       "      <td>7.2500</td>\n",
       "      <td>S</td>\n",
       "      <td>Third</td>\n",
       "      <td>man</td>\n",
       "      <td>True</td>\n",
       "      <td>NaN</td>\n",
       "      <td>Southampton</td>\n",
       "      <td>no</td>\n",
       "      <td>False</td>\n",
       "    </tr>\n",
       "    <tr>\n",
       "      <th>1</th>\n",
       "      <td>1</td>\n",
       "      <td>1</td>\n",
       "      <td>female</td>\n",
       "      <td>38.0</td>\n",
       "      <td>1</td>\n",
       "      <td>0</td>\n",
       "      <td>71.2833</td>\n",
       "      <td>C</td>\n",
       "      <td>First</td>\n",
       "      <td>woman</td>\n",
       "      <td>False</td>\n",
       "      <td>C</td>\n",
       "      <td>Cherbourg</td>\n",
       "      <td>yes</td>\n",
       "      <td>False</td>\n",
       "    </tr>\n",
       "    <tr>\n",
       "      <th>2</th>\n",
       "      <td>1</td>\n",
       "      <td>3</td>\n",
       "      <td>female</td>\n",
       "      <td>26.0</td>\n",
       "      <td>0</td>\n",
       "      <td>0</td>\n",
       "      <td>7.9250</td>\n",
       "      <td>S</td>\n",
       "      <td>Third</td>\n",
       "      <td>woman</td>\n",
       "      <td>False</td>\n",
       "      <td>NaN</td>\n",
       "      <td>Southampton</td>\n",
       "      <td>yes</td>\n",
       "      <td>True</td>\n",
       "    </tr>\n",
       "    <tr>\n",
       "      <th>3</th>\n",
       "      <td>1</td>\n",
       "      <td>1</td>\n",
       "      <td>female</td>\n",
       "      <td>35.0</td>\n",
       "      <td>1</td>\n",
       "      <td>0</td>\n",
       "      <td>53.1000</td>\n",
       "      <td>S</td>\n",
       "      <td>First</td>\n",
       "      <td>woman</td>\n",
       "      <td>False</td>\n",
       "      <td>C</td>\n",
       "      <td>Southampton</td>\n",
       "      <td>yes</td>\n",
       "      <td>False</td>\n",
       "    </tr>\n",
       "    <tr>\n",
       "      <th>4</th>\n",
       "      <td>0</td>\n",
       "      <td>3</td>\n",
       "      <td>male</td>\n",
       "      <td>35.0</td>\n",
       "      <td>0</td>\n",
       "      <td>0</td>\n",
       "      <td>8.0500</td>\n",
       "      <td>S</td>\n",
       "      <td>Third</td>\n",
       "      <td>man</td>\n",
       "      <td>True</td>\n",
       "      <td>NaN</td>\n",
       "      <td>Southampton</td>\n",
       "      <td>no</td>\n",
       "      <td>True</td>\n",
       "    </tr>\n",
       "  </tbody>\n",
       "</table>\n",
       "</div>"
      ],
      "text/plain": [
       "   survived  pclass     sex   age  sibsp  parch     fare embarked  class  \\\n",
       "0         0       3    male  22.0      1      0   7.2500        S  Third   \n",
       "1         1       1  female  38.0      1      0  71.2833        C  First   \n",
       "2         1       3  female  26.0      0      0   7.9250        S  Third   \n",
       "3         1       1  female  35.0      1      0  53.1000        S  First   \n",
       "4         0       3    male  35.0      0      0   8.0500        S  Third   \n",
       "\n",
       "     who  adult_male deck  embark_town alive  alone  \n",
       "0    man        True  NaN  Southampton    no  False  \n",
       "1  woman       False    C    Cherbourg   yes  False  \n",
       "2  woman       False  NaN  Southampton   yes   True  \n",
       "3  woman       False    C  Southampton   yes  False  \n",
       "4    man        True  NaN  Southampton    no   True  "
      ]
     },
     "execution_count": 10,
     "metadata": {},
     "output_type": "execute_result"
    }
   ],
   "source": [
    "df.head()\n"
   ]
  },
  {
   "cell_type": "markdown",
   "id": "312ea06f",
   "metadata": {},
   "source": [
    "### Describe basic statistics of numerical columns."
   ]
  },
  {
   "cell_type": "markdown",
   "id": "7c7222ee",
   "metadata": {},
   "source": [
    "By using the 'describe()' function we can see the basic statistics of the columns."
   ]
  },
  {
   "cell_type": "code",
   "execution_count": 15,
   "id": "465d0725",
   "metadata": {
    "scrolled": false
   },
   "outputs": [
    {
     "data": {
      "text/html": [
       "<div>\n",
       "<style scoped>\n",
       "    .dataframe tbody tr th:only-of-type {\n",
       "        vertical-align: middle;\n",
       "    }\n",
       "\n",
       "    .dataframe tbody tr th {\n",
       "        vertical-align: top;\n",
       "    }\n",
       "\n",
       "    .dataframe thead th {\n",
       "        text-align: right;\n",
       "    }\n",
       "</style>\n",
       "<table border=\"1\" class=\"dataframe\">\n",
       "  <thead>\n",
       "    <tr style=\"text-align: right;\">\n",
       "      <th></th>\n",
       "      <th>survived</th>\n",
       "      <th>pclass</th>\n",
       "      <th>age</th>\n",
       "      <th>sibsp</th>\n",
       "      <th>parch</th>\n",
       "      <th>fare</th>\n",
       "    </tr>\n",
       "  </thead>\n",
       "  <tbody>\n",
       "    <tr>\n",
       "      <th>count</th>\n",
       "      <td>891.000000</td>\n",
       "      <td>891.000000</td>\n",
       "      <td>714.000000</td>\n",
       "      <td>891.000000</td>\n",
       "      <td>891.000000</td>\n",
       "      <td>891.000000</td>\n",
       "    </tr>\n",
       "    <tr>\n",
       "      <th>mean</th>\n",
       "      <td>0.383838</td>\n",
       "      <td>2.308642</td>\n",
       "      <td>29.699118</td>\n",
       "      <td>0.523008</td>\n",
       "      <td>0.381594</td>\n",
       "      <td>32.204208</td>\n",
       "    </tr>\n",
       "    <tr>\n",
       "      <th>std</th>\n",
       "      <td>0.486592</td>\n",
       "      <td>0.836071</td>\n",
       "      <td>14.526497</td>\n",
       "      <td>1.102743</td>\n",
       "      <td>0.806057</td>\n",
       "      <td>49.693429</td>\n",
       "    </tr>\n",
       "    <tr>\n",
       "      <th>min</th>\n",
       "      <td>0.000000</td>\n",
       "      <td>1.000000</td>\n",
       "      <td>0.420000</td>\n",
       "      <td>0.000000</td>\n",
       "      <td>0.000000</td>\n",
       "      <td>0.000000</td>\n",
       "    </tr>\n",
       "    <tr>\n",
       "      <th>25%</th>\n",
       "      <td>0.000000</td>\n",
       "      <td>2.000000</td>\n",
       "      <td>20.125000</td>\n",
       "      <td>0.000000</td>\n",
       "      <td>0.000000</td>\n",
       "      <td>7.910400</td>\n",
       "    </tr>\n",
       "    <tr>\n",
       "      <th>50%</th>\n",
       "      <td>0.000000</td>\n",
       "      <td>3.000000</td>\n",
       "      <td>28.000000</td>\n",
       "      <td>0.000000</td>\n",
       "      <td>0.000000</td>\n",
       "      <td>14.454200</td>\n",
       "    </tr>\n",
       "    <tr>\n",
       "      <th>75%</th>\n",
       "      <td>1.000000</td>\n",
       "      <td>3.000000</td>\n",
       "      <td>38.000000</td>\n",
       "      <td>1.000000</td>\n",
       "      <td>0.000000</td>\n",
       "      <td>31.000000</td>\n",
       "    </tr>\n",
       "    <tr>\n",
       "      <th>max</th>\n",
       "      <td>1.000000</td>\n",
       "      <td>3.000000</td>\n",
       "      <td>80.000000</td>\n",
       "      <td>8.000000</td>\n",
       "      <td>6.000000</td>\n",
       "      <td>512.329200</td>\n",
       "    </tr>\n",
       "  </tbody>\n",
       "</table>\n",
       "</div>"
      ],
      "text/plain": [
       "         survived      pclass         age       sibsp       parch        fare\n",
       "count  891.000000  891.000000  714.000000  891.000000  891.000000  891.000000\n",
       "mean     0.383838    2.308642   29.699118    0.523008    0.381594   32.204208\n",
       "std      0.486592    0.836071   14.526497    1.102743    0.806057   49.693429\n",
       "min      0.000000    1.000000    0.420000    0.000000    0.000000    0.000000\n",
       "25%      0.000000    2.000000   20.125000    0.000000    0.000000    7.910400\n",
       "50%      0.000000    3.000000   28.000000    0.000000    0.000000   14.454200\n",
       "75%      1.000000    3.000000   38.000000    1.000000    0.000000   31.000000\n",
       "max      1.000000    3.000000   80.000000    8.000000    6.000000  512.329200"
      ]
     },
     "execution_count": 15,
     "metadata": {},
     "output_type": "execute_result"
    }
   ],
   "source": [
    "df.describe()"
   ]
  },
  {
   "cell_type": "markdown",
   "id": "3079d715",
   "metadata": {},
   "source": [
    "### Check for the total number of rows and columns."
   ]
  },
  {
   "cell_type": "code",
   "execution_count": 17,
   "id": "b4911224",
   "metadata": {},
   "outputs": [
    {
     "name": "stdout",
     "output_type": "stream",
     "text": [
      "Number of rows: 891\n",
      "Number of columns: 15\n"
     ]
    }
   ],
   "source": [
    "print(\"Number of rows:\",df.shape[0]) #Displays the number of rows\n",
    "print(\"Number of columns:\", df.shape[1]) #Displays the number of columns "
   ]
  },
  {
   "cell_type": "markdown",
   "id": "29b9346a",
   "metadata": {},
   "source": [
    "## Data Cleaning"
   ]
  },
  {
   "cell_type": "code",
   "execution_count": 14,
   "id": "8009c3a4",
   "metadata": {
    "scrolled": true
   },
   "outputs": [
    {
     "name": "stdout",
     "output_type": "stream",
     "text": [
      "     survived  pclass     sex  class Age_Category Fare_Category\n",
      "1           1       1  female  First        Adult        Medium\n",
      "3           1       1  female  First        Adult        Medium\n",
      "6           0       1    male  First        Adult        Medium\n",
      "10          1       3  female  Third        Child           Low\n",
      "11          1       1  female  First        Adult           Low\n",
      "..        ...     ...     ...    ...          ...           ...\n",
      "871         1       1  female  First        Adult        Medium\n",
      "872         0       1    male  First        Adult           Low\n",
      "879         1       1  female  First        Adult        Medium\n",
      "887         1       1  female  First  Young Adult           Low\n",
      "889         1       1    male  First  Young Adult           Low\n",
      "\n",
      "[182 rows x 6 columns]\n"
     ]
    }
   ],
   "source": [
    "import pandas as pd\n",
    "import seaborn as sns\n",
    "\n",
    "titanic_data = sns.load_dataset('titanic')\n",
    "\n",
    "def clean_data(fd):\n",
    "    # Removing NaN values\n",
    "    fd.dropna(inplace=True)\n",
    "    \n",
    "    # Changing numeric values to categorical\n",
    "    age_bins = [0, 18, 30, 60, fd['age'].max()]\n",
    "    age_labels = ['Child', 'Young Adult', 'Adult', 'Senior']\n",
    "    fd['Age_Category'] = pd.cut(fd['age'], bins=age_bins, labels=age_labels, include_lowest=True)\n",
    "    \n",
    "    fare_bins = [0, 50, 100, fd['fare'].max()]\n",
    "    fare_labels = ['Low', 'Medium', 'High']\n",
    "    fd['Fare_Category'] = pd.cut(fd['fare'], bins=fare_bins, labels=fare_labels, include_lowest=True)\n",
    "    \n",
    "    class_bins = [0, 1, 2, fd['pclass'].max()]\n",
    "    class_labels = ['First','Second','Third']\n",
    "    fd['class'] = pd.cut(fd['pclass'], bins=class_bins, labels = class_labels, include_lowest=True)\n",
    "    \n",
    "    # Dropping unnecessary columns\n",
    "    fd.drop(['sibsp','embarked', 'age', 'who', 'fare', 'parch', 'embark_town', 'adult_male', 'deck', 'alive', 'alone'], axis=1, inplace=True)\n",
    "    \n",
    "    return fd\n",
    "\n",
    "\n",
    "titanic_data = clean_data(titanic_data.copy())  # Make a copy to keep original data intact\n",
    "\n",
    "print(titanic_data)\n",
    "\n",
    "\n",
    "\n",
    "\n",
    "\n"
   ]
  },
  {
   "cell_type": "markdown",
   "id": "426edd74",
   "metadata": {},
   "source": [
    "## Exploratory Data Analysis"
   ]
  },
  {
   "cell_type": "markdown",
   "id": "a2c92b17",
   "metadata": {},
   "source": [
    "### Visualize the distribution of passenger ages using histograms."
   ]
  },
  {
   "cell_type": "code",
   "execution_count": 29,
   "id": "d1ee572a",
   "metadata": {},
   "outputs": [
    {
     "data": {
      "image/png": "[encoded data removed]",
      "text/plain": [
       "<Figure size 640x480 with 1 Axes>"
      ]
     },
     "metadata": {},
     "output_type": "display_data"
    }
   ],
   "source": [
    "import math\n",
    "\n",
    "df1 = sns.load_dataset('titanic')\n",
    "\n",
    "column_to_plot = 'age'\n",
    "\n",
    "#using Sturges' Formula to calculate bins based on the number of data points\n",
    "\n",
    "num_bins = int(1 + math.log2(len(df1[column_to_plot].dropna())))\n",
    "\n",
    "\n",
    "#making the histogram\n",
    "df1[column_to_plot].plot(kind='hist',bins=num_bins,edgecolor='black')\n",
    "\n",
    "\n",
    "#labelling the axis and making a title\n",
    "plt.xlabel(column_to_plot.capitalize())\n",
    "plt.ylabel('Frequency')\n",
    "plt.title(f'Histogram of {column_to_plot}')\n",
    "\n",
    "plt.show()\n",
    "\n"
   ]
  },
  {
   "cell_type": "markdown",
   "id": "507a4155",
   "metadata": {},
   "source": [
    "This histogram clarifies that most the passengers were between the ages of 18-32. This is because together these passengers had a total count of 345."
   ]
  },
  {
   "cell_type": "markdown",
   "id": "2388519b",
   "metadata": {},
   "source": [
    "### Analyse the survival rate by gender using a bar plot."
   ]
  },
  {
   "cell_type": "code",
   "execution_count": 28,
   "id": "dd7d1802",
   "metadata": {
    "scrolled": true
   },
   "outputs": [
    {
     "data": {
      "image/png": "[encoded data removed]",
      "text/plain": [
       "<Figure size 640x480 with 1 Axes>"
      ]
     },
     "metadata": {},
     "output_type": "display_data"
    }
   ],
   "source": [
    "#filter the dataset to include only the survivors using boolean indexing \n",
    "survived = df[df['survived']==1]\n",
    "\n",
    "#create a bar plot for survivors by gender\n",
    "survived_by_gender = survived['sex'].value_counts()\n",
    "survived_by_gender.plot(kind='bar',color=['pink','blue'])\n",
    "\n",
    "#adding labels to axis\n",
    "plt.xlabel('Gender')\n",
    "plt.ylabel('Count')\n",
    "plt.title('Survivors by Gender')\n",
    "\n",
    "plt.show()"
   ]
  },
  {
   "cell_type": "markdown",
   "id": "64fa0b3c",
   "metadata": {},
   "source": [
    "From this barchart visualises that more women survived the Titanic than men, this is because there were 200+ women and 100 men who survived. This highlights how the number of women who survived is close to twice the amount of men."
   ]
  },
  {
   "cell_type": "markdown",
   "id": "64fe2dbb",
   "metadata": {},
   "source": [
    "### Explore the survival rate by passenger class using a count plot."
   ]
  },
  {
   "cell_type": "code",
   "execution_count": 14,
   "id": "d429a449",
   "metadata": {},
   "outputs": [
    {
     "data": {
      "image/png": "[encoded data removed]",
      "text/plain": [
       "<Figure size 640x480 with 1 Axes>"
      ]
     },
     "metadata": {},
     "output_type": "display_data"
    }
   ],
   "source": [
    "import seaborn as sns\n",
    "import matplotlib.pyplot as plt\n",
    "\n",
    "# Load the Titanic dataset\n",
    "df = sns.load_dataset('titanic')\n",
    "\n",
    "# Create a custom color palette\n",
    "custom_palette = {1: 'green', 0: 'red'}  # Mapping '1' (survived) to green and '0' (died) to red\n",
    "\n",
    "# Create the count plot with the specified color palette\n",
    "sns.countplot(data=df, x='pclass', hue='survived', palette=custom_palette)\n",
    "plt.xlabel('Passenger Class')\n",
    "plt.ylabel('Count of Passengers')\n",
    "plt.title('Survivor count by class')\n",
    "plt.legend(title='Survived', labels=['No', 'Yes'])\n",
    "plt.show()"
   ]
  },
  {
   "cell_type": "markdown",
   "id": "8b630020",
   "metadata": {},
   "source": [
    "The count chart illustrates how the survivors would be more likely to survive if they were from the first class as opposed to the third class. What also can be highlighted is that the other classes had a disproportionate count of survivors."
   ]
  },
  {
   "cell_type": "markdown",
   "id": "8565bd7d",
   "metadata": {},
   "source": [
    "### Create visualizations (e.g., heatmap) to explore correlations between variables (e.g., fare, age, survival)."
   ]
  },
  {
   "cell_type": "code",
   "execution_count": 27,
   "id": "27b91e6a",
   "metadata": {
    "scrolled": false
   },
   "outputs": [
    {
     "data": {
      "image/png": "[encoded data removed]",
      "text/plain": [
       "<Figure size 1000x600 with 2 Axes>"
      ]
     },
     "metadata": {},
     "output_type": "display_data"
    }
   ],
   "source": [
    "import pandas as pd\n",
    "import seaborn as sns\n",
    "import matplotlib.pyplot as plt\n",
    "\n",
    "# Assuming 'df' is your DataFrame containing the data\n",
    "df = sns.load_dataset('titanic')\n",
    "# Selecting a subset of columns\n",
    "subset = df[['fare', 'survived', 'age']]\n",
    "\n",
    "# Calculating the correlation matrix\n",
    "correlation_matrix = subset.corr()\n",
    "\n",
    "# Setting up the figure size\n",
    "plt.figure(figsize=(10, 6))\n",
    "\n",
    "# Creating the heatmap\n",
    "sns.heatmap(correlation_matrix, annot=True, cmap='coolwarm', fmt=\".2f\", center=0)\n",
    "plt.title('Correlation Heatmap: Fare, Survived, Age')\n",
    "plt.show()\n",
    "\n",
    "\n",
    "\n",
    "\n"
   ]
  },
  {
   "cell_type": "markdown",
   "id": "a254d117",
   "metadata": {},
   "source": [
    "From the heatmap we deduct the following:\n",
    "* the fare paid by passengers increased as the person was older\n",
    "* the likely hood of survival  and age has a negative correlation, this means that the older the passenger was the increase in likelihood of them not surviving\n"
   ]
  },
  {
   "cell_type": "markdown",
   "id": "46a33d39",
   "metadata": {},
   "source": [
    "### Creating an additional feature"
   ]
  },
  {
   "cell_type": "code",
   "execution_count": 17,
   "id": "5964294c",
   "metadata": {
    "scrolled": true
   },
   "outputs": [
    {
     "name": "stdout",
     "output_type": "stream",
     "text": [
      "     family_size\n",
      "0              2\n",
      "1              2\n",
      "2              1\n",
      "3              2\n",
      "4              1\n",
      "..           ...\n",
      "886            1\n",
      "887            1\n",
      "888            4\n",
      "889            1\n",
      "890            1\n",
      "\n",
      "[891 rows x 1 columns]\n"
     ]
    }
   ],
   "source": [
    "import pandas as pd \n",
    "import seaborn as sns\n",
    "\n",
    "data = sns.load_dataset('titanic')\n",
    "df = pd.DataFrame(data)\n",
    "\n",
    "\n",
    "#making a new feature, this shall be a family column \n",
    "df['family_size']= df['sibsp'] + df['parch'] + 1\n",
    "print(df[['family_size']])\n",
    "\n"
   ]
  },
  {
   "cell_type": "markdown",
   "id": "256264af",
   "metadata": {},
   "source": [
    "This new column sums the count of siblings/spouses and parents/children and + 1 to account for the individual themselves.This column has created a co count representing the total number of family members an individual has on the Titanic."
   ]
  },
  {
   "cell_type": "code",
   "execution_count": null,
   "id": "b070be0d",
   "metadata": {},
   "outputs": [],
   "source": []
  }
 ],
 "metadata": {
  "kernelspec": {
   "display_name": "Python 3 (ipykernel)",
   "language": "python",
   "name": "python3"
  },
  "language_info": {
   "codemirror_mode": {
    "name": "ipython",
    "version": 3
   },
   "file_extension": ".py",
   "mimetype": "text/x-python",
   "name": "python",
   "nbconvert_exporter": "python",
   "pygments_lexer": "ipython3",
   "version": "3.11.5"
  }
 },
 "nbformat": 4,
 "nbformat_minor": 5
}
